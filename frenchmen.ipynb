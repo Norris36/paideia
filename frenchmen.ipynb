{
 "cells": [
  {
   "cell_type": "markdown",
   "id": "9faeb145",
   "metadata": {},
   "source": [
    "# Introduction \n",
    " Managing the french data and training for doing french trainging in paidieia"
   ]
  },
  {
   "cell_type": "code",
   "execution_count": 1,
   "metadata": {},
   "outputs": [
    {
     "name": "stdout",
     "output_type": "stream",
     "text": [
      "Requirement already satisfied: ebooklib in /Users/jensbay/opt/anaconda3/lib/python3.9/site-packages (0.18)\n",
      "Requirement already satisfied: six in /Users/jensbay/opt/anaconda3/lib/python3.9/site-packages (from ebooklib) (1.16.0)\n",
      "Requirement already satisfied: lxml in /Users/jensbay/opt/anaconda3/lib/python3.9/site-packages (from ebooklib) (4.6.3)\n",
      "Note: you may need to restart the kernel to use updated packages.\n"
     ]
    }
   ],
   "source": [
    "pip install ebooklib"
   ]
  },
  {
   "cell_type": "code",
   "execution_count": 2,
   "metadata": {},
   "outputs": [
    {
     "name": "stderr",
     "output_type": "stream",
     "text": [
      "/Users/jensbay/opt/anaconda3/lib/python3.9/site-packages/ebooklib/epub.py:1395: UserWarning: In the future version we will turn default option ignore_ncx to True.\n",
      "  warnings.warn('In the future version we will turn default option ignore_ncx to True.')\n"
     ]
    },
    {
     "ename": "NameError",
     "evalue": "name 'ebooklib' is not defined",
     "output_type": "error",
     "traceback": [
      "\u001b[0;31m---------------------------------------------------------------------------\u001b[0m",
      "\u001b[0;31mNameError\u001b[0m                                 Traceback (most recent call last)",
      "\u001b[0;32m/var/folders/m7/fz3wxs8s1w348l1yjktbwwp80000gn/T/ipykernel_46080/3344963944.py\u001b[0m in \u001b[0;36m<module>\u001b[0;34m\u001b[0m\n\u001b[1;32m     14\u001b[0m \u001b[0me_path\u001b[0m \u001b[0;34m=\u001b[0m \u001b[0;34mr'/Users/jensbay/Downloads/Neri Rook - 100 Most Frequently Used French Words + 1000 Example Sentences_ A Dictionary of Frequency + Phrasebook to Learn French-Neri Rook (2015).epub'\u001b[0m\u001b[0;34m\u001b[0m\u001b[0;34m\u001b[0m\u001b[0m\n\u001b[1;32m     15\u001b[0m \u001b[0mt_path\u001b[0m \u001b[0;34m=\u001b[0m \u001b[0;34m'french.txt'\u001b[0m\u001b[0;34m\u001b[0m\u001b[0;34m\u001b[0m\u001b[0m\n\u001b[0;32m---> 16\u001b[0;31m \u001b[0mepub_to_text\u001b[0m\u001b[0;34m(\u001b[0m\u001b[0mepub_path\u001b[0m\u001b[0;34m=\u001b[0m\u001b[0me_path\u001b[0m\u001b[0;34m,\u001b[0m \u001b[0mtext_file_path\u001b[0m\u001b[0;34m=\u001b[0m\u001b[0mt_path\u001b[0m\u001b[0;34m)\u001b[0m\u001b[0;34m\u001b[0m\u001b[0;34m\u001b[0m\u001b[0m\n\u001b[0m\u001b[1;32m     17\u001b[0m \u001b[0;34m\u001b[0m\u001b[0m\n",
      "\u001b[0;32m/var/folders/m7/fz3wxs8s1w348l1yjktbwwp80000gn/T/ipykernel_46080/3344963944.py\u001b[0m in \u001b[0;36mepub_to_text\u001b[0;34m(epub_path, text_file_path)\u001b[0m\n\u001b[1;32m      6\u001b[0m     \u001b[0mtext_content\u001b[0m \u001b[0;34m=\u001b[0m \u001b[0;34m\"\"\u001b[0m\u001b[0;34m\u001b[0m\u001b[0;34m\u001b[0m\u001b[0m\n\u001b[1;32m      7\u001b[0m     \u001b[0;32mfor\u001b[0m \u001b[0mitem\u001b[0m \u001b[0;32min\u001b[0m \u001b[0mbook\u001b[0m\u001b[0;34m.\u001b[0m\u001b[0mget_items\u001b[0m\u001b[0;34m(\u001b[0m\u001b[0;34m)\u001b[0m\u001b[0;34m:\u001b[0m\u001b[0;34m\u001b[0m\u001b[0;34m\u001b[0m\u001b[0m\n\u001b[0;32m----> 8\u001b[0;31m         \u001b[0;32mif\u001b[0m \u001b[0mitem\u001b[0m\u001b[0;34m.\u001b[0m\u001b[0mget_type\u001b[0m\u001b[0;34m(\u001b[0m\u001b[0;34m)\u001b[0m \u001b[0;34m==\u001b[0m \u001b[0mebooklib\u001b[0m\u001b[0;34m.\u001b[0m\u001b[0mITEM_DOCUMENT\u001b[0m\u001b[0;34m:\u001b[0m\u001b[0;34m\u001b[0m\u001b[0;34m\u001b[0m\u001b[0m\n\u001b[0m\u001b[1;32m      9\u001b[0m             \u001b[0mtext_content\u001b[0m \u001b[0;34m+=\u001b[0m \u001b[0mitem\u001b[0m\u001b[0;34m.\u001b[0m\u001b[0mget_content\u001b[0m\u001b[0;34m(\u001b[0m\u001b[0;34m)\u001b[0m\u001b[0;34m.\u001b[0m\u001b[0mdecode\u001b[0m\u001b[0;34m(\u001b[0m\u001b[0;34m'utf-8'\u001b[0m\u001b[0;34m)\u001b[0m\u001b[0;34m\u001b[0m\u001b[0;34m\u001b[0m\u001b[0m\n\u001b[1;32m     10\u001b[0m \u001b[0;34m\u001b[0m\u001b[0m\n",
      "\u001b[0;31mNameError\u001b[0m: name 'ebooklib' is not defined"
     ]
    }
   ],
   "source": [
    "from ebooklib import epub\n",
    "\n",
    "def epub_to_text(epub_path, text_file_path):\n",
    "    book = epub.read_epub(epub_path)\n",
    "    \n",
    "    text_content = \"\"\n",
    "    for item in book.get_items():\n",
    "        if item.get_type() == ebooklib.ITEM_DOCUMENT:\n",
    "            text_content += item.get_content().decode('utf-8')\n",
    "            \n",
    "    with open(text_file_path, 'w', encoding='utf-8') as text_file:\n",
    "        text_file.write(text_content)\n",
    "\n",
    "e_path = r'/Users/jensbay/Downloads/Neri Rook - 100 Most Frequently Used French Words + 1000 Example Sentences_ A Dictionary of Frequency + Phrasebook to Learn French-Neri Rook (2015).epub'\n",
    "t_path = 'french.txt'\n",
    "epub_to_text(epub_path=e_path, text_file_path=t_path)\n",
    "\n"
   ]
  },
  {
   "cell_type": "code",
   "execution_count": 4,
   "metadata": {},
   "outputs": [
    {
     "name": "stderr",
     "output_type": "stream",
     "text": [
      "/Users/jensbay/opt/anaconda3/lib/python3.9/site-packages/ebooklib/epub.py:1395: UserWarning: In the future version we will turn default option ignore_ncx to True.\n",
      "  warnings.warn('In the future version we will turn default option ignore_ncx to True.')\n"
     ]
    }
   ],
   "source": [
    "from bs4 import BeautifulSoup\n",
    "import ebooklib\n",
    "\n",
    "def epub_to_text(epub_path, text_file_path):\n",
    "    book = epub.read_epub(epub_path)\n",
    "    \n",
    "    text_content = \"\"\n",
    "    for item in book.get_items():\n",
    "        if item.get_type() == ebooklib.ITEM_DOCUMENT:\n",
    "            soup = BeautifulSoup(item.get_content(), 'html.parser')\n",
    "            text_content += soup.get_text()\n",
    "            \n",
    "    with open(text_file_path, 'w', encoding='utf-8') as text_file:\n",
    "        text_file.write(text_content)\n",
    "\n",
    "e_path = r'/Users/jensbay/Downloads/Neri Rook - 100 Most Frequently Used French Words + 1000 Example Sentences_ A Dictionary of Frequency + Phrasebook to Learn French-Neri Rook (2015).epub'\n",
    "t_path = 'french.txt'\n",
    "epub_to_text(epub_path=e_path, text_file_path=t_path)"
   ]
  },
  {
   "cell_type": "code",
   "execution_count": 14,
   "metadata": {},
   "outputs": [
    {
     "name": "stdout",
     "output_type": "stream",
     "text": [
      "Empty DataFrame\n",
      "Columns: [Line Number, French Sentence, English Translation]\n",
      "Index: []\n"
     ]
    }
   ],
   "source": [
    "import re\n",
    "import pandas as pd\n",
    "\n",
    "def process_text_file(file_path):\n",
    "    regex_pattern_fr = r'\\>\\s+(.*?)\\s+\\['\n",
    "    regex_pattern_en = r'\\[(.*?)\\]'\n",
    "    data = []\n",
    "    line_number = 0\n",
    "\n",
    "    with open(file_path, 'r', encoding='utf-8') as file:\n",
    "        lines = file.readlines()\n",
    "\n",
    "        for line in lines:\n",
    "            if line.startswith('['):\n",
    "                match = re.search(r'\\[(\\d+)\\]', line)\n",
    "                if match:  # Make sure the match was successful before accessing the groups\n",
    "                    line_number = int(match.group(1))\n",
    "            else:\n",
    "                match_fr = re.search(regex_pattern_fr, line)\n",
    "                match_en = re.search(regex_pattern_en, line)\n",
    "                if match_fr and match_en:\n",
    "                    french_sentence = match_fr.group(1).strip()\n",
    "                    english_translation = match_en.group(1).strip()\n",
    "                    data.append([line_number, french_sentence, english_translation])\n",
    "\n",
    "    df = pd.DataFrame(data, columns=['Line Number', 'French Sentence', 'English Translation'])\n",
    "    return df\n",
    "\n",
    "# Specify the path to your text file\n",
    "file_path = 'french.txt'\n",
    "\n",
    "# Call the function to process the text file\n",
    "result_df = process_text_file(text_file_path)\n",
    "\n",
    "# Display the resulting DataFrame\n",
    "print(result_df)\n"
   ]
  },
  {
   "cell_type": "code",
   "execution_count": 16,
   "metadata": {},
   "outputs": [],
   "source": [
    "file_path = 'french.txt'\n",
    "\n",
    "with open(file_path, 'r', encoding='utf-8') as file:\n",
    "    lines = file.readlines()"
   ]
  },
  {
   "cell_type": "code",
   "execution_count": 34,
   "metadata": {},
   "outputs": [],
   "source": [
    "my_dict = {}\n",
    "\n",
    "for i in lines:\n",
    "    if len(i) < 2:\n",
    "        pass\n",
    "    else:\n",
    "        if len(re.findall('\\[\\d', i))>0:\n",
    "            category = i\n",
    "            my_dict[category] = \"\"\n",
    "        else:\n",
    "            my_dict[category] += i + \" \"\n",
    "\n",
    "for key in my_dict.keys():\n",
    "    my_string = my_dict[key].split('>')\n",
    "    for j in my_string:\n",
    "        if len(j) > 0:\n",
    "            y = j.split('[')\n",
    "            if len(y) > 1:\n",
    "                x = y[0].replace('\\n', '').strip()\n",
    "                z = y[1].replace('\\n', '').replace(']', '').strip()\n",
    "                df.loc[len(df)] = [key, x, z]\n",
    "\n",
    "df.to_csv('frencmen.csv', index=False)"
   ]
  },
  {
   "cell_type": "code",
   "execution_count": 36,
   "metadata": {},
   "outputs": [],
   "source": [
    "df['last_run'] = 0\n",
    "df['last_score'] = 0\n",
    "df.to_csv('frenchmen.csv', index=False)"
   ]
  },
  {
   "cell_type": "code",
   "execution_count": null,
   "metadata": {},
   "outputs": [],
   "source": []
  }
 ],
 "metadata": {
  "kernelspec": {
   "display_name": "base",
   "language": "python",
   "name": "python3"
  },
  "language_info": {
   "codemirror_mode": {
    "name": "ipython",
    "version": 3
   },
   "file_extension": ".py",
   "mimetype": "text/x-python",
   "name": "python",
   "nbconvert_exporter": "python",
   "pygments_lexer": "ipython3",
   "version": "3.9.7"
  }
 },
 "nbformat": 4,
 "nbformat_minor": 2
}
